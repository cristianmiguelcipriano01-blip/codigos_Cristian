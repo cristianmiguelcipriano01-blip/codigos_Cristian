{
 "cells": [
  {
   "cell_type": "code",
   "execution_count": 1,
   "id": "d7bb3497",
   "metadata": {},
   "outputs": [],
   "source": [
    "import pyautogui as aut"
   ]
  },
  {
   "cell_type": "markdown",
   "id": "9640bf18",
   "metadata": {},
   "source": [
    "# bloco de notas"
   ]
  },
  {
   "cell_type": "code",
   "execution_count": 2,
   "id": "eb072791",
   "metadata": {},
   "outputs": [],
   "source": [
    "import pyautogui as aut\n",
    "\n",
    "#pressiono a tecla de de atalho win +r\n",
    "aut.hotkey(\"win\",\"r\")\n",
    "#escrever notepad\n",
    "aut.write(\"notepad\",interval=0.7)\n",
    "#espera 1 segundo\n",
    "aut.sleep(1)\n",
    "#aperta o enter\n",
    "aut.press(\"enter\")\n",
    "aut.sleep(1)\n",
    "aut.moveTo(204,281)\n",
    "aut.click()\n",
    "aut.sleep(1)\n",
    "aut.write(\"\",interval =0.2)"
   ]
  },
  {
   "cell_type": "code",
   "execution_count": 47,
   "id": "2606a7fa",
   "metadata": {},
   "outputs": [],
   "source": [
    "aut.mouseInfo()"
   ]
  },
  {
   "cell_type": "markdown",
   "id": "125fb2df",
   "metadata": {},
   "source": [
    "# youtube"
   ]
  },
  {
   "cell_type": "code",
   "execution_count": 40,
   "id": "ff6f9438",
   "metadata": {},
   "outputs": [],
   "source": [
    "aut.moveTo(953,1059)\n",
    "\n",
    "aut.click()\n",
    "\n",
    "aut.sleep(1)\n",
    "\n",
    "aut.moveTo(287,68)\n",
    "\n",
    "aut.sleep(1)\n",
    "\n",
    "aut.write(\"youtube\")\n",
    "aut.sleep(3)\n",
    "aut.click()\n",
    "\n",
    "aut.sleep(2)\n",
    "aut.moveTo(289,363)\n",
    "aut.click()"
   ]
  },
  {
   "cell_type": "markdown",
   "id": "0a350f65",
   "metadata": {},
   "source": [
    "# calculadora\n"
   ]
  },
  {
   "cell_type": "code",
   "execution_count": 46,
   "id": "20bfff68",
   "metadata": {},
   "outputs": [],
   "source": [
    "import pyautogui as aut\n",
    "\n",
    "#pressiono a tecla de de atalho win +r\n",
    "aut.hotkey(\"win\",\"r\")\n",
    "#escrever notepad\n",
    "aut.write(\"calc.exe\",interval=0.2)\n",
    "#espera 1 segundo\n",
    "aut.sleep(1)\n",
    "#aperta o enter\n",
    "aut.press(\"enter\")\n",
    "\n",
    "aut.sleep(1)\n",
    "aut.write(\"1+1\" , interval=0.3)\n",
    "aut.sleep(1)\n",
    "aut.press(\"enter\")\n"
   ]
  },
  {
   "cell_type": "markdown",
   "id": "be569f0b",
   "metadata": {},
   "source": [
    "# paint"
   ]
  },
  {
   "cell_type": "code",
   "execution_count": 53,
   "id": "37d21732",
   "metadata": {},
   "outputs": [],
   "source": [
    "import pyautogui as aut\n",
    "\n",
    "\n",
    "aut.press(\"win\")\n",
    "\n",
    "aut.write(\"paint\",interval=0.2)\n",
    "\n",
    "aut.sleep(1)\n",
    "\n",
    "aut.press(\"enter\")\n",
    "\n",
    "aut.sleep(1)\n",
    "\n",
    "aut.moveTo()\n",
    "\n"
   ]
  }
 ],
 "metadata": {
  "kernelspec": {
   "display_name": "Python 3",
   "language": "python",
   "name": "python3"
  },
  "language_info": {
   "codemirror_mode": {
    "name": "ipython",
    "version": 3
   },
   "file_extension": ".py",
   "mimetype": "text/x-python",
   "name": "python",
   "nbconvert_exporter": "python",
   "pygments_lexer": "ipython3",
   "version": "3.13.2"
  }
 },
 "nbformat": 4,
 "nbformat_minor": 5
}

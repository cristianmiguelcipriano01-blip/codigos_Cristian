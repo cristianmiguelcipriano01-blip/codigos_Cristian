{
 "cells": [
  {
   "cell_type": "markdown",
   "id": "3492046a",
   "metadata": {},
   "source": [
    "### CLT"
   ]
  },
  {
   "cell_type": "code",
   "execution_count": 22,
   "id": "b61082f3",
   "metadata": {},
   "outputs": [
    {
     "name": "stdout",
     "output_type": "stream",
     "text": [
      "o que vai sobrar e 2300\n"
     ]
    }
   ],
   "source": [
    "salario = 1500\n",
    "gasolina = 200\n",
    "internet = 200\n",
    "alimentos = 1400\n",
    "agua = 100\n",
    "energia = 300\n",
    "entreterimento = 100\n",
    "\n",
    "total_gastos = gasolina + internet + alimentos + agua + energia + entreterimento\n",
    "quanto_sobra = salario - total_gastos\n",
    "print(f\"o que vai sobrar e {total_gastos}\")"
   ]
  }
 ],
 "metadata": {
  "kernelspec": {
   "display_name": "Python 3",
   "language": "python",
   "name": "python3"
  },
  "language_info": {
   "codemirror_mode": {
    "name": "ipython",
    "version": 3
   },
   "file_extension": ".py",
   "mimetype": "text/x-python",
   "name": "python",
   "nbconvert_exporter": "python",
   "pygments_lexer": "ipython3",
   "version": "3.13.2"
  }
 },
 "nbformat": 4,
 "nbformat_minor": 5
}

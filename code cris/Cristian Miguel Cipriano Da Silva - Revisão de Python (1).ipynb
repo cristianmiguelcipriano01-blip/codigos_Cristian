{
 "cells": [
  {
   "cell_type": "markdown",
   "id": "790cdba8",
   "metadata": {},
   "source": [
    "### Aula de Python para Iniciantes - Mão na Massa 🐍\n",
    "\"Primeiros Passos em Python - Do Zero ao Primeiro Programa\""
   ]
  },
  {
   "cell_type": "markdown",
   "id": "30dc5e40",
   "metadata": {},
   "source": [
    "**O que é Python?**\n",
    "\n",
    "Linguagem de programação poderosa e fácil de aprender\n",
    "\n",
    "**Usada no YouTube, Instagram, NASA, Netflix**\n",
    "\n",
    "**Ótima para iniciantes*\n"
   ]
  },
  {
   "cell_type": "markdown",
   "id": "dbfc8226",
   "metadata": {},
   "source": [
    "Primeiro Contato:"
   ]
  },
  {
   "cell_type": "code",
   "execution_count": 1,
   "id": "fdfdbe54",
   "metadata": {},
   "outputs": [
    {
     "name": "stdout",
     "output_type": "stream",
     "text": [
      "Hello World!\n",
      "Sejam bem-vindos ao mundo do Python! 🎉\n"
     ]
    }
   ],
   "source": [
    "print(\"Hello World!\")\n",
    "print(\"Sejam bem-vindos ao mundo do Python! 🎉\")"
   ]
  },
  {
   "cell_type": "markdown",
   "id": "21988e6d",
   "metadata": {},
   "source": [
    "### 🖥️ Parte 2: Primeiros Comandos \n",
    "\n",
    "2.1 O Poder do print()"
   ]
  },
  {
   "cell_type": "code",
   "execution_count": 3,
   "id": "b6b868cf",
   "metadata": {},
   "outputs": [
    {
     "name": "stdout",
     "output_type": "stream",
     "text": [
      "Oi, eu sou o Python!\n",
      "Estou aprendendo a programar.\n",
      "Isso é muito legal!\n",
      "Meu nome é cristian e tenho 15 anos\n",
      "Meu nome é João e tenho 17 anos\n"
     ]
    }
   ],
   "source": [
    "# Exemplo 1\n",
    "print(\"Oi, eu sou o Python!\")\n",
    "print(\"Estou aprendendo a programar.\")\n",
    "print(\"Isso é muito legal!\")\n",
    "\n",
    "# Exercício 1: Crie um print que mostre seu nome e idade\n",
    "print(\"Meu nome é cristian e tenho 15 anos\")\n",
    "\n",
    "# (Exemplo de solução)\n",
    "print(\"Meu nome é João e tenho 17 anos\")"
   ]
  },
  {
   "cell_type": "markdown",
   "id": "af22de51",
   "metadata": {},
   "source": [
    "2.2 Variáveis Simples"
   ]
  },
  {
   "cell_type": "code",
   "execution_count": 2,
   "id": "28d3d22b",
   "metadata": {},
   "outputs": [
    {
     "name": "stdout",
     "output_type": "stream",
     "text": [
      "Maria\n",
      "17\n",
      "coruja,gato,furao\n",
      "2010\n"
     ]
    }
   ],
   "source": [
    "# Exemplo 2\n",
    "nome = \"Maria\"\n",
    "idade = 17\n",
    "print(nome)\n",
    "print(idade)\n",
    "\n",
    "# Exercício 2: Crie variáveis para:\n",
    "\n",
    "# - Seu animal favorito\n",
    "animal = (\"coruja,gato,furao\")\n",
    "\n",
    "# - Seu ano de nascimento\n",
    "ano = (\"2010\")\n",
    "\n",
    "# E mostre elas com print\n",
    "print(\"coruja,gato,furao\")\n",
    "print(\"2010\")\n"
   ]
  },
  {
   "cell_type": "markdown",
   "id": "3657d1d7",
   "metadata": {},
   "source": [
    "2.3 Inputs - Conversando com o Usuário\n"
   ]
  },
  {
   "cell_type": "code",
   "execution_count": 6,
   "id": "4f7dd464",
   "metadata": {},
   "outputs": [
    {
     "name": "stdout",
     "output_type": "stream",
     "text": [
      "Olá, cristian ! Bem-vindo ao Python!\n",
      "seu jogo fav e roblox,call of duty,free fire,undertale,deltarune voce joga 12.0 por dia? olk viciado\n"
     ]
    }
   ],
   "source": [
    "# Exemplo 3\n",
    "nome = input(\"Qual é o seu nome? \")\n",
    "print(\"Olá,\", nome, \"! Bem-vindo ao Python!\")\n",
    "\n",
    "# Exercício 3: Faça um programa que pergunte:\n",
    "# - Qual seu jogo favorito\n",
    "jogo = input (\"qual e seu jogo fav? \")\n",
    "# - Quantas horas você joga por semana\n",
    "horas = float(input(\"quantas horas vc joga por semana? \"))\n",
    "# E depois mostre essas informações\n",
    "print(f\"seu jogo fav e {jogo} voce joga {horas} por dia? olk viciado\")"
   ]
  },
  {
   "cell_type": "code",
   "execution_count": 4,
   "id": "8447908d",
   "metadata": {},
   "outputs": [
    {
     "name": "stdout",
     "output_type": "stream",
     "text": [
      "--- Gerador de Apelidos Engraçados ---\n",
      "Seu apelido poderia ser: Super batata coruja,gato e furao!\n"
     ]
    }
   ],
   "source": [
    "print(\"--- Gerador de Apelidos Engraçados ---\")\n",
    "comida = input(\"Qual sua comida favorita? \")\n",
    "animal = input(\"Qual seu animal preferido? \")\n",
    "print(\"Seu apelido poderia ser:\", \"Super \" + comida + \" \" + animal + \"!\")"
   ]
  },
  {
   "cell_type": "markdown",
   "id": "190b0e98",
   "metadata": {},
   "source": [
    "Projeto 2: Calculadora de Idade"
   ]
  },
  {
   "cell_type": "code",
   "execution_count": 5,
   "id": "9b15af62",
   "metadata": {},
   "outputs": [
    {
     "name": "stdout",
     "output_type": "stream",
     "text": [
      "vc tem:2025.0 - 2010.0\n"
     ]
    }
   ],
   "source": [
    "ano_atual = float (input(\"em que ano estamos? \"))\n",
    "ano_nacimento = float (input(\"em que ano vc nasceu? \"))\n",
    "print(f\"vc tem:{ano_atual} - {ano_nacimento}\")"
   ]
  },
  {
   "cell_type": "markdown",
   "id": "27b23eb0",
   "metadata": {},
   "source": [
    "Projeto 3: Quiz Simples"
   ]
  },
  {
   "cell_type": "code",
   "execution_count": null,
   "id": "86da1065",
   "metadata": {},
   "outputs": [
    {
     "ename": "SyntaxError",
     "evalue": "invalid syntax (1242216949.py, line 3)",
     "output_type": "error",
     "traceback": [
      "  \u001b[36mCell\u001b[39m\u001b[36m \u001b[39m\u001b[32mIn[71]\u001b[39m\u001b[32m, line 3\u001b[39m\n\u001b[31m    \u001b[39m\u001b[31mif: resposta == \"sim\"\u001b[39m\n      ^\n\u001b[31mSyntaxError\u001b[39m\u001b[31m:\u001b[39m invalid syntax\n"
     ]
    }
   ],
   "source": [
    "print(\"--- Quiz de Programação ---\")\n",
    "resposta = input(\"Python é uma linguagem de programação? (sim/não) \")\n",
    "if: resposta == \"sim\"\n",
    "    print(\"Correto! 🎉\")\n",
    "else:\n",
    "    print(\"Ops, na verdade é sim! 😊\")"
   ]
  },
  {
   "cell_type": "markdown",
   "id": "703efc09",
   "metadata": {},
   "source": [
    "### 💡 Parte 4: Desafios "
   ]
  },
  {
   "cell_type": "markdown",
   "id": "8ee84d28",
   "metadata": {},
   "source": [
    "**Desafio 1: Crie um programa que pergunta:**\n",
    "\n",
    "**Dois números favoritos**\n",
    "\n",
    "**Seu signo**\n",
    "\n",
    "\n",
    "**E depois mostra: \"Seu código secreto é: num1 + signo + num2**"
   ]
  },
  {
   "cell_type": "code",
   "execution_count": 1,
   "id": "9949b081",
   "metadata": {},
   "outputs": [
    {
     "name": "stdout",
     "output_type": "stream",
     "text": [
      "seu codigo secreto e cu2cu2cu2\n"
     ]
    }
   ],
   "source": [
    "numero_fav = input(\"qual seu numero fav? \")\n",
    "numero_fav_2 = input(\"qual seu outro numero fav? \")\n",
    "signo = input(\"qual e o seu signo\")\n",
    "code = numero_fav + signo + numero_fav_2\n",
    "print(f\"seu codigo secreto e {code}\")"
   ]
  },
  {
   "cell_type": "markdown",
   "id": "b30a44d2",
   "metadata": {},
   "source": [
    "**Desafio 2: Crie uma história maluca que combina 3 inputs do usuário (ex: nome, objeto e lugar)**"
   ]
  },
  {
   "cell_type": "code",
   "execution_count": null,
   "id": "8f8587bb",
   "metadata": {},
   "outputs": [
    {
     "ename": "SyntaxError",
     "evalue": "unterminated string literal (detected at line 1) (2617211031.py, line 1)",
     "output_type": "error",
     "traceback": [
      "  \u001b[36mCell\u001b[39m\u001b[36m \u001b[39m\u001b[32mIn[73]\u001b[39m\u001b[32m, line 1\u001b[39m\n\u001b[31m    \u001b[39m\u001b[31mnome = input(\"qual e seu nome\u001b[39m\n                 ^\n\u001b[31mSyntaxError\u001b[39m\u001b[31m:\u001b[39m unterminated string literal (detected at line 1)\n"
     ]
    }
   ],
   "source": [
    "nome = \n"
   ]
  },
  {
   "cell_type": "markdown",
   "id": "dbd8c544",
   "metadata": {},
   "source": [
    "### 🌟 Encerramento:\n",
    "\n",
    "Revisão rápida do que aprenderam:\n",
    "\n",
    "**print() para mostrar informações**\n",
    "\n",
    "**input() para receber dados**\n",
    "\n",
    "**Variáveis para guardar valores**\n",
    "\n",
    "**Operações simples**"
   ]
  }
 ],
 "metadata": {
  "kernelspec": {
   "display_name": "Python 3",
   "language": "python",
   "name": "python3"
  },
  "language_info": {
   "codemirror_mode": {
    "name": "ipython",
    "version": 3
   },
   "file_extension": ".py",
   "mimetype": "text/x-python",
   "name": "python",
   "nbconvert_exporter": "python",
   "pygments_lexer": "ipython3",
   "version": "3.13.2"
  }
 },
 "nbformat": 4,
 "nbformat_minor": 5
}

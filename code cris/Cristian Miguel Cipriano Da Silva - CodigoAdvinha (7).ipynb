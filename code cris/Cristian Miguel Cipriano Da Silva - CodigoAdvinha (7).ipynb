{
 "cells": [
  {
   "cell_type": "markdown",
   "id": "4f7a1d42",
   "metadata": {},
   "source": [
    "### Jogo de advinhação\n",
    "\n",
    "Vamos criar um jogo que advinha o número que o usuário digitou!!\n"
   ]
  },
  {
   "cell_type": "code",
   "execution_count": 6,
   "id": "5fa02260",
   "metadata": {},
   "outputs": [
    {
     "name": "stdout",
     "output_type": "stream",
     "text": [
      "Jogo de advinhação!!! Boa Sorte!!\n",
      "------------------------------------\n",
      "eu caredito que voce digitou foi:777.0 hahahaha acertei\n"
     ]
    }
   ],
   "source": [
    "print(\"Jogo de advinhação!!! Boa Sorte!!\")\n",
    "print(\"------------------------------------\")\n",
    "numero_usuario = float(input(\"escreva um numero seu touxa:\"))\n",
    "print(f\"eu caredito que voce digitou foi:{numero_usuario} hahahaha acertei\")\n"
   ]
  },
  {
   "cell_type": "code",
   "execution_count": null,
   "id": "42373c08",
   "metadata": {},
   "outputs": [],
   "source": []
  },
  {
   "cell_type": "code",
   "execution_count": null,
   "id": "ad8b43b3",
   "metadata": {},
   "outputs": [],
   "source": []
  },
  {
   "cell_type": "code",
   "execution_count": 9,
   "id": "7d9330a4",
   "metadata": {},
   "outputs": [
    {
     "name": "stdout",
     "output_type": "stream",
     "text": [
      "o seu carro custa:33.0\n",
      "vc tem:20.0\n",
      "para voce conseguir seu carro falta:13.0\n",
      "seu carro:pelo movel\n",
      "preço_carro:33.0\n",
      "seu dinheiro atual:20.0\n",
      "qunto falta pra realizar seu sonho:13.0\n"
     ]
    }
   ],
   "source": [
    "# 1º Primeiro peça ao usuário o nome do carro dos sonhos:\n",
    "nome_carro = input(\"Informe o nome do seu carro do sonho:\")\n",
    "# 2º Peça o preço do carro dos sonhos\n",
    "preço_carro = float (input(\"qual e o preço do carro? \"))\n",
    "print(f\"o seu carro custa:{preço_carro}\")\n",
    "# 3º Pergunte quanto dinheiro o usuário tem e guarde o valor em uma variável\n",
    "dinheiro = float(input(\"quanto dinhero voce tem agora?\"))\n",
    "print(f\"vc tem:{dinheiro}\")\n",
    "# 4º Calcule quanto falta para o usuário conseguir comprar o carro\n",
    "print(f\"para voce conseguir seu carro falta:{preço_carro- dinheiro}\")\n",
    "# 5º Mostre na tela o nome do carro o preço dele e quanto falta para o usuário realizar o sonho dele.\n",
    "print(f\"seu carro:{nome_carro}\")\n",
    "print(f\"preço_carro:{preço_carro}\")\n",
    "print(f\"seu dinheiro atual:{dinheiro}\")\n",
    "print(f\"qunto falta pra realizar seu sonho:{preço_carro - dinheiro}\")"
   ]
  },
  {
   "cell_type": "markdown",
   "id": "d28ba737",
   "metadata": {},
   "source": [
    "### Agenda de Celular\n",
    "\n",
    "Peça ao usuário que informe o nome dele e o número do telefone dele\n",
    "\n",
    "Depois mostre ao usuário print() com uma mensagem o nome dele e o número do telefone"
   ]
  },
  {
   "cell_type": "code",
   "execution_count": null,
   "id": "3037f6bb",
   "metadata": {},
   "outputs": [
    {
     "name": "stdout",
     "output_type": "stream",
     "text": [
      "O seu nome é Yudi e o seu número é (11)4002-8922\n"
     ]
    }
   ],
   "source": [
    "# preciso pedir o nome do usuário\n",
    "\n",
    "#preciso pedir o telefone\n",
    "\n",
    "# mostrar as informações\n",
    "\n",
    "\n"
   ]
  },
  {
   "cell_type": "markdown",
   "id": "3312349f",
   "metadata": {},
   "source": [
    "### Adivinha a idade\n",
    "\n",
    "preciso do ano do nascimento e o ano atual\n",
    "\n",
    "formula = ano_atual - ano_nascimento\n",
    "\n",
    "tipo da variavel int"
   ]
  },
  {
   "cell_type": "code",
   "execution_count": null,
   "id": "4d8cbcc1",
   "metadata": {},
   "outputs": [],
   "source": []
  }
 ],
 "metadata": {
  "kernelspec": {
   "display_name": "Python 3",
   "language": "python",
   "name": "python3"
  },
  "language_info": {
   "codemirror_mode": {
    "name": "ipython",
    "version": 3
   },
   "file_extension": ".py",
   "mimetype": "text/x-python",
   "name": "python",
   "nbconvert_exporter": "python",
   "pygments_lexer": "ipython3",
   "version": "3.13.2"
  }
 },
 "nbformat": 4,
 "nbformat_minor": 5
}
